{
 "cells": [
  {
   "cell_type": "markdown",
   "metadata": {},
   "source": [
    "# Part 1: Create Landslide Probability Model\n",
    "UW Geospatial Data Analysis  \n",
    "CEE498/CEWA599  \n",
    "Ryan Rasanen & Brek Chiles"
   ]
  },
  {
   "cell_type": "code",
   "execution_count": null,
   "metadata": {},
   "outputs": [],
   "source": [
    "# Import all modules \n",
    "# These were copied directly from lab 07\n",
    "import os\n",
    "import requests\n",
    "import numpy as np\n",
    "import pandas as pd\n",
    "import geopandas as gpd\n",
    "import rasterio as rio\n",
    "from rasterio import plot, mask\n",
    "from rasterio.warp import calculate_default_transform, reproject, Resampling\n",
    "import matplotlib.pyplot as plt\n",
    "import rasterstats"
   ]
  },
  {
   "cell_type": "markdown",
   "metadata": {},
   "source": [
    "### Workflow\n",
    "* Use gdalwarp to load and process raster datasets\n",
    "* Reclassify land cover (GLOB) and lithology (GLIM) datasets\n",
    "* Use Nowicki et al. (2018) equation to create LS probability model"
   ]
  },
  {
   "cell_type": "code",
   "execution_count": null,
   "metadata": {},
   "outputs": [],
   "source": [
    "# Code for gdalwarp"
   ]
  },
  {
   "cell_type": "markdown",
   "metadata": {},
   "source": [
    "### Maybe look into copying the table from Nowicki et al. (2018) into here"
   ]
  },
  {
   "cell_type": "code",
   "execution_count": null,
   "metadata": {},
   "outputs": [],
   "source": [
    "# GLOB reclassification, cover values to coefficients\n",
    "glob_copy = glob_ras.copy()  \n",
    "glob_copy_flt = np.asarray(glob_copy, dtype=np.float, order='C') # I think we might need to make the integer values floats before reclassifying\n",
    "glob_copy_flt[np.where(glob_copy_flt == 14.)] = 0.91 # Rainfed croplands\n",
    "glob_copy_flt[np.where(glob_copy_flt == 20.)] = 0.88 # Mosaic cropland\n",
    "glob_copy_flt[np.where(glob_copy_flt == 30.)] = 0.78 # Mosaic vegetation\n",
    "glob_copy_flt[np.where(glob_copy_flt == 40.)] = 0.68 # Closed to open broadleaved evergreen or semideciduous forest\n",
    "glob_copy_flt[np.where(glob_copy_flt == 50.)] = 0.3 # Closed broadleaved deciduous forest\n",
    "glob_copy_flt[np.where(glob_copy_flt == 60.)] = 1.77 # Open broadleaved deciduous forest/woodland\n",
    "glob_copy_flt[np.where(glob_copy_flt == 70.)] = 1.71 # Open broadleaved deciduous forest/woodland\n",
    "glob_copy_flt[np.where(glob_copy_flt == 90.)] = -1.26 # Closed needleleaved evergreen forest\n",
    "glob_copy_flt[np.where(glob_copy_flt == 100.)] = 1.5 # Closed to open mixed broadleaved and needleleaved forest\n",
    "glob_copy_flt[np.where(glob_copy_flt == 110.)] = 0.68 # Mosaic forest or shrubland/grassland\n",
    "glob_copy_flt[np.where(glob_copy_flt == 120.)] = 1.13 # Mosaic grassland/forest or shrubland\n",
    "glob_copy_flt[np.where(glob_copy_flt == 130.)] = 0.79 # Closed to open broadleaved or needleleaved, evergreen or deciduous \n",
    "glob_copy_flt[np.where(glob_copy_flt == 140.)] = 1.03 # Closed to open herabceous vegetation\n",
    "glob_copy_flt[np.where(glob_copy_flt == 150.)] = 0.54 # Sparse vegetation\n",
    "glob_copy_flt[np.where(glob_copy_flt == 160.)] = 2.34 # Closed to open broadleaved forest regulary flooded\n",
    "glob_copy_flt[np.where(glob_copy_flt == 180.)] = 1.19  \n",
    "glob_copy_flt[np.where(glob_copy_flt == 190.)] = 0.3  \n",
    "glob_copy_flt[np.where(glob_copy_flt == 200.)] = -0.06  \n",
    "glob_copy_flt[np.where(glob_copy_flt == 220.)] = -0.18  \n",
    "glob_copy_flt[np.where(glob_copy_flt == 230.)] = -1.08\n",
    "glob_copy_flt"
   ]
  },
  {
   "cell_type": "code",
   "execution_count": null,
   "metadata": {},
   "outputs": [],
   "source": [
    "# Make a plot?"
   ]
  },
  {
   "cell_type": "code",
   "execution_count": null,
   "metadata": {},
   "outputs": [],
   "source": [
    "# GLIM reclassification, lithology values to coefficients\n",
    "glim_copy = glim_ras.copy()  \n",
    "glob_copy_flt = np.asarray(glim_copy, dtype=np.float, order='C') # I think we might need to make the integer values floats before reclassifying\n",
    "glim_copy_flt[np.where(glob_copy_flt == 1.)] = -0.81 # Intermediate Volcanic Rock, vi\n",
    "glim_copy_flt[np.where(glob_copy_flt == 2.)] = -1.5 # Basic Volcanic Rocks, vb\n",
    "glim_copy_flt[np.where(glob_copy_flt == 3.)] = -0.78 # Acid Plutonic Rocks, pa\n",
    "glim_copy_flt[np.where(glob_copy_flt == 4.)] = -1.87 # Metamorphic Rocks, mt\n",
    "glim_copy_flt[np.where(glob_copy_flt == 5.)] = -3.22 # Unconsolidated Sediments, su\n",
    "glim_copy_flt[np.where(glob_copy_flt == 6.)] = -1.92 # Siliciclastic Sedimentary Rocks, ss\n",
    "glim_copy_flt[np.where(glob_copy_flt == 7.)] = -1.88 # Basic Plutonic Rocks, pb\n",
    "glim_copy_flt[np.where(glob_copy_flt == 8.)] = -1.61 # Intermediate Plutonic Rocks, pi\n",
    "glim_copy_flt[np.where(glob_copy_flt == 9.)] = -1.36 # Mixed Sedimentary Rocks, sm\n",
    "glim_copy_flt[np.where(glob_copy_flt == 10.)] = np.nan # Water Bodies, wb\n",
    "glim_copy_flt[np.where(glob_copy_flt == 11.)] = -1.05 # Pyroclastics, py\n",
    "glim_copy_flt[np.where(glob_copy_flt == 12.)] = -0.95 # Carbonate Sedimentary Rocks, sc \n",
    "glim_copy_flt[np.where(glob_copy_flt == 13.)] = -1.54 # Acid Volcanic Rocks, va\n",
    "glim_copy_flt[np.where(glob_copy_flt == 14.)] = -0.66 # No Data, nd\n",
    "glim_copy_flt[np.where(glob_copy_flt == 15.)] = np.nan # Evaporites, ev\n",
    "glim_copy_flt[np.where(glob_copy_flt == -128.)] = np.nan \n",
    "glim_copy_flt"
   ]
  },
  {
   "cell_type": "code",
   "execution_count": null,
   "metadata": {},
   "outputs": [],
   "source": [
    "# Make a plot?"
   ]
  },
  {
   "cell_type": "code",
   "execution_count": null,
   "metadata": {},
   "outputs": [],
   "source": [
    "# Set up the Nowicki et al. (2018) equation"
   ]
  },
  {
   "cell_type": "code",
   "execution_count": null,
   "metadata": {},
   "outputs": [],
   "source": [
    "# Make a plot"
   ]
  }
 ],
 "metadata": {
  "kernelspec": {
   "display_name": "Python 3",
   "language": "python",
   "name": "python3"
  },
  "language_info": {
   "codemirror_mode": {
    "name": "ipython",
    "version": 3
   },
   "file_extension": ".py",
   "mimetype": "text/x-python",
   "name": "python",
   "nbconvert_exporter": "python",
   "pygments_lexer": "ipython3",
   "version": "3.8.6"
  }
 },
 "nbformat": 4,
 "nbformat_minor": 4
}
